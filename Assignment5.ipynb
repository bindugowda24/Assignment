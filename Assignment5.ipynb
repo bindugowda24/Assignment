{
  "nbformat": 4,
  "nbformat_minor": 0,
  "metadata": {
    "colab": {
      "provenance": []
    },
    "kernelspec": {
      "name": "python3",
      "display_name": "Python 3"
    },
    "language_info": {
      "name": "python"
    }
  },
  "cells": [
    {
      "cell_type": "markdown",
      "source": [
        "1. What does an empty dictionary's code look like?\n",
        "- Two curly brackets: {}"
      ],
      "metadata": {
        "id": "ixJZoEysIaIn"
      }
    },
    {
      "cell_type": "code",
      "source": [
        "emp_num = dict()\n",
        "print(\"empty dictionary:\",emp_num)\n",
        "print(type(emp_num))"
      ],
      "metadata": {
        "colab": {
          "base_uri": "https://localhost:8080/"
        },
        "id": "RdIB48D6Ia6c",
        "outputId": "ee48bc83-4141-4cad-d625-e24987bae96a"
      },
      "execution_count": null,
      "outputs": [
        {
          "output_type": "stream",
          "name": "stdout",
          "text": [
            "empty dictionary: {}\n",
            "<class 'dict'>\n"
          ]
        }
      ]
    },
    {
      "cell_type": "markdown",
      "source": [
        "2. What is the value of a dictionary value with the key 'foo' and the value 42?"
      ],
      "metadata": {
        "id": "YCuURbCLJLzy"
      }
    },
    {
      "cell_type": "code",
      "source": [
        "dict={'foo': 42}"
      ],
      "metadata": {
        "id": "qeeRhstaMzlp"
      },
      "execution_count": null,
      "outputs": []
    },
    {
      "cell_type": "code",
      "source": [
        "dict"
      ],
      "metadata": {
        "colab": {
          "base_uri": "https://localhost:8080/"
        },
        "id": "LTxbrw7EM1iq",
        "outputId": "11d8c328-dff2-4636-96ad-6448136affb4"
      },
      "execution_count": null,
      "outputs": [
        {
          "output_type": "execute_result",
          "data": {
            "text/plain": [
              "{'foo': 42}"
            ]
          },
          "metadata": {},
          "execution_count": 7
        }
      ]
    },
    {
      "cell_type": "markdown",
      "source": [
        "3. What is the most significant distinction between a dictionary and a list?\n",
        "\n",
        "- List :  A list is a collections of items like integers and float value, string,boolean in ordered.\n",
        "\n",
        "- Dictionary : A dictionary is a collection which is unordered, changeable and do not allow duplicates and used to store data values in key:value pairs."
      ],
      "metadata": {
        "id": "LD2Zx_0RKtPA"
      }
    },
    {
      "cell_type": "markdown",
      "source": [
        "4. What happens if you try to access spam['foo'] if spam is {'bar': 100}?\n",
        "- KeyError error."
      ],
      "metadata": {
        "id": "NF6R8AuMMME-"
      }
    },
    {
      "cell_type": "markdown",
      "source": [
        "5. If a dictionary is stored in spam, what is the difference between the expressions 'cat' in spam and 'cat' in spam.keys()?\n",
        "\n",
        "- no difference. In operator checks whether a value exists as a key in the dictionary."
      ],
      "metadata": {
        "id": "1AZ_aUgnNdbi"
      }
    },
    {
      "cell_type": "markdown",
      "source": [
        "6. If a dictionary is stored in spam, what is the difference between the expressions 'cat' in spam and 'cat' in spam.values()?\n",
        "- 'cat' in spam checks whether there is a 'cat' key in the dictionary, while 'cat' in spam.values() checks whether there is a value 'cat' for one of the keys in spam."
      ],
      "metadata": {
        "id": "oszA6zUCODDp"
      }
    },
    {
      "cell_type": "markdown",
      "source": [
        "7. What is a shortcut for the following code?\n",
        "if 'color' not in spam:\n",
        "spam['color'] = 'black'\n",
        "- spam.setdefault('color', 'black')"
      ],
      "metadata": {
        "id": "Erl3Ny0KOXsD"
      }
    },
    {
      "cell_type": "markdown",
      "source": [
        "8. How do you \"pretty print\" dictionary values using which module and function?\n",
        "- pprint.pprint()"
      ],
      "metadata": {
        "id": "nBa2ud5LOhp9"
      }
    }
  ]
}